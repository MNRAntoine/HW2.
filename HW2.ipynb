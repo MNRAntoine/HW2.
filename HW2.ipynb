{
 "cells": [
  {
   "cell_type": "markdown",
   "id": "a076b1c5-cc6e-4c35-b588-6eb0c751c56d",
   "metadata": {},
   "source": [
    "# HW2  Recurrent Neural Networks"
   ]
  },
  {
   "cell_type": "markdown",
   "id": "6a5070dc-bef5-4fd8-b49e-aa119c9d1355",
   "metadata": {},
   "source": [
    "The goal of this assignment is to detect whether a tweet is about a disaster or not."
   ]
  },
  {
   "cell_type": "markdown",
   "id": "ca72fd24-f747-4f93-adef-3fceadfa4902",
   "metadata": {},
   "source": [
    "## Cleaning text before analyse :"
   ]
  },
  {
   "cell_type": "code",
   "execution_count": 1,
   "id": "d03f6e46-b106-49d3-bd09-b18e7944abf4",
   "metadata": {},
   "outputs": [
    {
     "data": {
      "text/html": [
       "<div>\n",
       "<style scoped>\n",
       "    .dataframe tbody tr th:only-of-type {\n",
       "        vertical-align: middle;\n",
       "    }\n",
       "\n",
       "    .dataframe tbody tr th {\n",
       "        vertical-align: top;\n",
       "    }\n",
       "\n",
       "    .dataframe thead th {\n",
       "        text-align: right;\n",
       "    }\n",
       "</style>\n",
       "<table border=\"1\" class=\"dataframe\">\n",
       "  <thead>\n",
       "    <tr style=\"text-align: right;\">\n",
       "      <th></th>\n",
       "      <th>id</th>\n",
       "      <th>keyword</th>\n",
       "      <th>location</th>\n",
       "      <th>text</th>\n",
       "      <th>target</th>\n",
       "    </tr>\n",
       "  </thead>\n",
       "  <tbody>\n",
       "    <tr>\n",
       "      <th>0</th>\n",
       "      <td>1</td>\n",
       "      <td>NaN</td>\n",
       "      <td>NaN</td>\n",
       "      <td>Our Deeds are the Reason of this #earthquake M...</td>\n",
       "      <td>1</td>\n",
       "    </tr>\n",
       "    <tr>\n",
       "      <th>1</th>\n",
       "      <td>4</td>\n",
       "      <td>NaN</td>\n",
       "      <td>NaN</td>\n",
       "      <td>Forest fire near La Ronge Sask. Canada</td>\n",
       "      <td>1</td>\n",
       "    </tr>\n",
       "    <tr>\n",
       "      <th>2</th>\n",
       "      <td>5</td>\n",
       "      <td>NaN</td>\n",
       "      <td>NaN</td>\n",
       "      <td>All residents asked to 'shelter in place' are ...</td>\n",
       "      <td>1</td>\n",
       "    </tr>\n",
       "    <tr>\n",
       "      <th>3</th>\n",
       "      <td>6</td>\n",
       "      <td>NaN</td>\n",
       "      <td>NaN</td>\n",
       "      <td>13,000 people receive #wildfires evacuation or...</td>\n",
       "      <td>1</td>\n",
       "    </tr>\n",
       "    <tr>\n",
       "      <th>4</th>\n",
       "      <td>7</td>\n",
       "      <td>NaN</td>\n",
       "      <td>NaN</td>\n",
       "      <td>Just got sent this photo from Ruby #Alaska as ...</td>\n",
       "      <td>1</td>\n",
       "    </tr>\n",
       "  </tbody>\n",
       "</table>\n",
       "</div>"
      ],
      "text/plain": [
       "   id keyword location                                               text  \\\n",
       "0   1     NaN      NaN  Our Deeds are the Reason of this #earthquake M...   \n",
       "1   4     NaN      NaN             Forest fire near La Ronge Sask. Canada   \n",
       "2   5     NaN      NaN  All residents asked to 'shelter in place' are ...   \n",
       "3   6     NaN      NaN  13,000 people receive #wildfires evacuation or...   \n",
       "4   7     NaN      NaN  Just got sent this photo from Ruby #Alaska as ...   \n",
       "\n",
       "   target  \n",
       "0       1  \n",
       "1       1  \n",
       "2       1  \n",
       "3       1  \n",
       "4       1  "
      ]
     },
     "execution_count": 1,
     "metadata": {},
     "output_type": "execute_result"
    }
   ],
   "source": [
    "import numpy as np\n",
    "import pandas as pd\n",
    "import re\n",
    "\n",
    "data = pd.read_csv('train.csv')\n",
    "data.head()"
   ]
  },
  {
   "cell_type": "code",
   "execution_count": 2,
   "id": "e91df8ce-3c86-489b-974d-18795787fd9c",
   "metadata": {},
   "outputs": [
    {
     "name": "stdout",
     "output_type": "stream",
     "text": [
      "id                                    28\n",
      "keyword                              NaN\n",
      "location                             NaN\n",
      "text        What a goooooooaaaaaal!!!!!!\n",
      "target                                 0\n",
      "Name: 19, dtype: object\n"
     ]
    }
   ],
   "source": [
    "print(data.iloc[19]) "
   ]
  },
  {
   "cell_type": "code",
   "execution_count": 3,
   "id": "92debcfc-dfc7-42ff-ac6a-481acdb070b6",
   "metadata": {},
   "outputs": [
    {
     "name": "stdout",
     "output_type": "stream",
     "text": [
      "Répartition des targets :\n",
      "target\n",
      "0    4342\n",
      "1    3271\n",
      "Name: count, dtype: int64\n"
     ]
    }
   ],
   "source": [
    "#We check target repartition\n",
    "target_counts = data.iloc[:, -1].value_counts(dropna=False)\n",
    "\n",
    "print(\"Répartition des targets :\")\n",
    "print(target_counts)"
   ]
  },
  {
   "cell_type": "markdown",
   "id": "b4c0edb1-b102-471e-bddc-e8e0e3c5b559",
   "metadata": {},
   "source": [
    "There is no problem with proportions"
   ]
  },
  {
   "cell_type": "markdown",
   "id": "7ab45da0-1422-43e5-9952-2f879e664e31",
   "metadata": {},
   "source": [
    "abbreviations list to replace in texts:"
   ]
  },
  {
   "cell_type": "code",
   "execution_count": 5,
   "id": "2d66100d-b9eb-4515-b9e4-9811e1fa8d52",
   "metadata": {},
   "outputs": [],
   "source": [
    "abbreviations = {\n",
    "    \"$\" : \" dollar \",\n",
    "    \"€\" : \" euro \",\n",
    "    \"4ao\" : \"for adults only\",\n",
    "    \"a.m\" : \"before midday\",\n",
    "    \"a3\" : \"anytime anywhere anyplace\",\n",
    "    \"aamof\" : \"as a matter of fact\",\n",
    "    \"acct\" : \"account\",\n",
    "    \"adih\" : \"another day in hell\",\n",
    "    \"afaic\" : \"as far as i am concerned\",\n",
    "    \"afaict\" : \"as far as i can tell\",\n",
    "    \"afaik\" : \"as far as i know\",\n",
    "    \"afair\" : \"as far as i remember\",\n",
    "    \"afk\" : \"away from keyboard\",\n",
    "    \"app\" : \"application\",\n",
    "    \"approx\" : \"approximately\",\n",
    "    \"apps\" : \"applications\",\n",
    "    \"asap\" : \"as soon as possible\",\n",
    "    \"asl\" : \"age, sex, location\",\n",
    "    \"atk\" : \"at the keyboard\",\n",
    "    \"ave.\" : \"avenue\",\n",
    "    \"aymm\" : \"are you my mother\",\n",
    "    \"ayor\" : \"at your own risk\", \n",
    "    \"b&b\" : \"bed and breakfast\",\n",
    "    \"b+b\" : \"bed and breakfast\",\n",
    "    \"b.c\" : \"before christ\",\n",
    "    \"b2b\" : \"business to business\",\n",
    "    \"b2c\" : \"business to customer\",\n",
    "    \"b4\" : \"before\",\n",
    "    \"b4n\" : \"bye for now\",\n",
    "    \"b@u\" : \"back at you\",\n",
    "    \"bae\" : \"before anyone else\",\n",
    "    \"bak\" : \"back at keyboard\",\n",
    "    \"bbbg\" : \"bye bye be good\",\n",
    "    \"bbc\" : \"british broadcasting corporation\",\n",
    "    \"bbias\" : \"be back in a second\",\n",
    "    \"bbl\" : \"be back later\",\n",
    "    \"bbs\" : \"be back soon\",\n",
    "    \"be4\" : \"before\",\n",
    "    \"bfn\" : \"bye for now\",\n",
    "    \"blvd\" : \"boulevard\",\n",
    "    \"bout\" : \"about\",\n",
    "    \"brb\" : \"be right back\",\n",
    "    \"bros\" : \"brothers\",\n",
    "    \"brt\" : \"be right there\",\n",
    "    \"bsaaw\" : \"big smile and a wink\",\n",
    "    \"btw\" : \"by the way\",\n",
    "    \"bwl\" : \"bursting with laughter\",\n",
    "    \"c/o\" : \"care of\",\n",
    "    \"cet\" : \"central european time\",\n",
    "    \"cf\" : \"compare\",\n",
    "    \"cia\" : \"central intelligence agency\",\n",
    "    \"csl\" : \"can not stop laughing\",\n",
    "    \"cu\" : \"see you\",\n",
    "    \"cul8r\" : \"see you later\",\n",
    "    \"cv\" : \"curriculum vitae\",\n",
    "    \"cwot\" : \"complete waste of time\",\n",
    "    \"cya\" : \"see you\",\n",
    "    \"cyt\" : \"see you tomorrow\",\n",
    "    \"dae\" : \"does anyone else\",\n",
    "    \"dbmib\" : \"do not bother me i am busy\",\n",
    "    \"diy\" : \"do it yourself\",\n",
    "    \"dm\" : \"direct message\",\n",
    "    \"dwh\" : \"during work hours\",\n",
    "    \"e123\" : \"easy as one two three\",\n",
    "    \"eet\" : \"eastern european time\",\n",
    "    \"eg\" : \"example\",\n",
    "    \"embm\" : \"early morning business meeting\",\n",
    "    \"encl\" : \"enclosed\",\n",
    "    \"encl.\" : \"enclosed\",\n",
    "    \"etc\" : \"and so on\",\n",
    "    \"faq\" : \"frequently asked questions\",\n",
    "    \"fawc\" : \"for anyone who cares\",\n",
    "    \"fb\" : \"facebook\",\n",
    "    \"fc\" : \"fingers crossed\",\n",
    "    \"fig\" : \"figure\",\n",
    "    \"fimh\" : \"forever in my heart\", \n",
    "    \"ft.\" : \"feet\",\n",
    "    \"ft\" : \"featuring\",\n",
    "    \"ftl\" : \"for the loss\",\n",
    "    \"ftw\" : \"for the win\",\n",
    "    \"fwiw\" : \"for what it is worth\",\n",
    "    \"fyi\" : \"for your information\",\n",
    "    \"g9\" : \"genius\",\n",
    "    \"gahoy\" : \"get a hold of yourself\",\n",
    "    \"gal\" : \"get a life\",\n",
    "    \"gcse\" : \"general certificate of secondary education\",\n",
    "    \"gfn\" : \"gone for now\",\n",
    "    \"gg\" : \"good game\",\n",
    "    \"gl\" : \"good luck\",\n",
    "    \"glhf\" : \"good luck have fun\",\n",
    "    \"gmt\" : \"greenwich mean time\",\n",
    "    \"gmta\" : \"great minds think alike\",\n",
    "    \"gn\" : \"good night\",\n",
    "    \"g.o.a.t\" : \"greatest of all time\",\n",
    "    \"goat\" : \"greatest of all time\",\n",
    "    \"goi\" : \"get over it\",\n",
    "    \"gps\" : \"global positioning system\",\n",
    "    \"gr8\" : \"great\",\n",
    "    \"gratz\" : \"congratulations\",\n",
    "    \"gyal\" : \"girl\",\n",
    "    \"h&c\" : \"hot and cold\",\n",
    "    \"hp\" : \"horsepower\",\n",
    "    \"hr\" : \"hour\",\n",
    "    \"hrh\" : \"his royal highness\",\n",
    "    \"ht\" : \"height\",\n",
    "    \"ibrb\" : \"i will be right back\",\n",
    "    \"ic\" : \"i see\",\n",
    "    \"icq\" : \"i seek you\",\n",
    "    \"icymi\" : \"in case you missed it\",\n",
    "    \"idc\" : \"i do not care\",\n",
    "    \"idgadf\" : \"i do not give a damn fuck\",\n",
    "    \"idgaf\" : \"i do not give a fuck\",\n",
    "    \"idk\" : \"i do not know\",\n",
    "    \"ie\" : \"that is\",\n",
    "    \"i.e\" : \"that is\",\n",
    "    \"ifyp\" : \"i feel your pain\",\n",
    "    \"IG\" : \"instagram\",\n",
    "    \"iirc\" : \"if i remember correctly\",\n",
    "    \"ilu\" : \"i love you\",\n",
    "    \"ily\" : \"i love you\",\n",
    "    \"imho\" : \"in my humble opinion\",\n",
    "    \"imo\" : \"in my opinion\",\n",
    "    \"imu\" : \"i miss you\",\n",
    "    \"iow\" : \"in other words\",\n",
    "    \"irl\" : \"in real life\",\n",
    "    \"j4f\" : \"just for fun\",\n",
    "    \"jic\" : \"just in case\",\n",
    "    \"jk\" : \"just kidding\",\n",
    "    \"jsyk\" : \"just so you know\",\n",
    "    \"l8r\" : \"later\",\n",
    "    \"lb\" : \"pound\",\n",
    "    \"lbs\" : \"pounds\",\n",
    "    \"ldr\" : \"long distance relationship\",\n",
    "    \"lmao\" : \"laugh my ass off\",\n",
    "    \"lmfao\" : \"laugh my fucking ass off\",\n",
    "    \"lol\" : \"laughing out loud\",\n",
    "    \"ltd\" : \"limited\",\n",
    "    \"ltns\" : \"long time no see\",\n",
    "    \"m8\" : \"mate\",\n",
    "    \"mf\" : \"motherfucker\",\n",
    "    \"mfs\" : \"motherfuckers\",\n",
    "    \"mfw\" : \"my face when\",\n",
    "    \"mofo\" : \"motherfucker\",\n",
    "    \"mph\" : \"miles per hour\",\n",
    "    \"mr\" : \"mister\",\n",
    "    \"mrw\" : \"my reaction when\",\n",
    "    \"ms\" : \"miss\",\n",
    "    \"mte\" : \"my thoughts exactly\",\n",
    "    \"nagi\" : \"not a good idea\",\n",
    "    \"nbc\" : \"national broadcasting company\",\n",
    "    \"nbd\" : \"not big deal\",\n",
    "    \"nfs\" : \"not for sale\",\n",
    "    \"ngl\" : \"not going to lie\",\n",
    "    \"nhs\" : \"national health service\",\n",
    "    \"nrn\" : \"no reply necessary\",\n",
    "    \"nsfl\" : \"not safe for life\",\n",
    "    \"nsfw\" : \"not safe for work\",\n",
    "    \"nth\" : \"nice to have\",\n",
    "    \"nvr\" : \"never\",\n",
    "    \"nyc\" : \"new york city\",\n",
    "    \"oc\" : \"original content\",\n",
    "    \"og\" : \"original\",\n",
    "    \"ohp\" : \"overhead projector\",\n",
    "    \"oic\" : \"oh i see\",\n",
    "    \"omdb\" : \"over my dead body\",\n",
    "    \"omg\" : \"oh my god\",\n",
    "    \"omw\" : \"on my way\",\n",
    "    \"p.a\" : \"per annum\",\n",
    "    \"p.m\" : \"after midday\",\n",
    "    \"pm\" : \"prime minister\",\n",
    "    \"poc\" : \"people of color\",\n",
    "    \"pov\" : \"point of view\",\n",
    "    \"pp\" : \"pages\",\n",
    "    \"ppl\" : \"people\",\n",
    "    \"prw\" : \"parents are watching\",\n",
    "    \"ps\" : \"postscript\",\n",
    "    \"pt\" : \"point\",\n",
    "    \"ptb\" : \"please text back\",\n",
    "    \"pto\" : \"please turn over\",\n",
    "    \"qpsa\" : \"what happens\",\n",
    "    \"ratchet\" : \"rude\",\n",
    "    \"rbtl\" : \"read between the lines\",\n",
    "    \"rlrt\" : \"real life retweet\", \n",
    "    \"rofl\" : \"rolling on the floor laughing\",\n",
    "    \"roflol\" : \"rolling on the floor laughing out loud\",\n",
    "    \"rotflmao\" : \"rolling on the floor laughing my ass off\",\n",
    "    \"rt\" : \"retweet\",\n",
    "    \"ruok\" : \"are you ok\",\n",
    "    \"sfw\" : \"safe for work\",\n",
    "    \"sk8\" : \"skate\",\n",
    "    \"smh\" : \"shake my head\",\n",
    "    \"sq\" : \"square\",\n",
    "    \"srsly\" : \"seriously\", \n",
    "    \"ssdd\" : \"same stuff different day\",\n",
    "    \"tbh\" : \"to be honest\",\n",
    "    \"tbs\" : \"tablespooful\",\n",
    "    \"tbsp\" : \"tablespooful\",\n",
    "    \"tfw\" : \"that feeling when\",\n",
    "    \"thks\" : \"thank you\",\n",
    "    \"tho\" : \"though\",\n",
    "    \"thx\" : \"thank you\",\n",
    "    \"tia\" : \"thanks in advance\",\n",
    "    \"til\" : \"today i learned\",\n",
    "    \"tl;dr\" : \"too long i did not read\",\n",
    "    \"tldr\" : \"too long i did not read\",\n",
    "    \"tmb\" : \"tweet me back\",\n",
    "    \"tntl\" : \"trying not to laugh\",\n",
    "    \"ttyl\" : \"talk to you later\",\n",
    "    \"u\" : \"you\",\n",
    "    \"u2\" : \"you too\",\n",
    "    \"u4e\" : \"yours for ever\",\n",
    "    \"utc\" : \"coordinated universal time\",\n",
    "    \"w/\" : \"with\",\n",
    "    \"w/o\" : \"without\",\n",
    "    \"w8\" : \"wait\",\n",
    "    \"wassup\" : \"what is up\",\n",
    "    \"wb\" : \"welcome back\",\n",
    "    \"wtf\" : \"what the fuck\",\n",
    "    \"wtg\" : \"way to go\",\n",
    "    \"wtpa\" : \"where the party at\",\n",
    "    \"wuf\" : \"where are you from\",\n",
    "    \"wuzup\" : \"what is up\",\n",
    "    \"wywh\" : \"wish you were here\",\n",
    "    \"yd\" : \"yard\",\n",
    "    \"ygtr\" : \"you got that right\",\n",
    "    \"ynk\" : \"you never know\",\n",
    "    \"zzz\" : \"sleeping bored and tired\"\n",
    "}"
   ]
  },
  {
   "cell_type": "markdown",
   "id": "2c684821-f510-470e-9e1b-f2c852a77963",
   "metadata": {},
   "source": [
    "Cleaning function:\n"
   ]
  },
  {
   "cell_type": "code",
   "execution_count": 6,
   "id": "2c5cbf53-942f-4c66-a75d-4e1266ad0935",
   "metadata": {},
   "outputs": [],
   "source": [
    "import nltk\n",
    "from nltk.corpus import stopwords\n",
    "from nltk.stem import WordNetLemmatizer\n",
    "\n",
    "def word_abbrev(word):\n",
    "    return abbreviations.get(word, word)\n",
    "\n",
    "def replace_abbrev(text):\n",
    "    return ' '.join(word_abbrev(word) for word in text.split())\n",
    "\n",
    "def preprocess_text(text):\n",
    "    if isinstance(text, str):\n",
    "        original_text = text\n",
    "        text = text.lower()\n",
    "        text = re.sub(r'http\\S+|www\\S+|https\\S+', '', text) # remove the links \n",
    "        text = re.sub(r'@\\w+', '', text)\n",
    "        hashtags = re.findall(r'#(\\w+)', original_text)\n",
    "        \n",
    "        #Here we replace special caractere and ponctuation by space\n",
    "        text = re.sub(r'[#%&=+/\\\\@]', ' ', text)\n",
    "        text = re.sub(r'[^\\w\\s\\']', ' ', text)\n",
    "        text = re.sub(r'\\d+', '', text)\n",
    "\n",
    "        # and here we reduce space size to 1 space\n",
    "        text = re.sub(r'\\s+', ' ', text).strip()\n",
    "\n",
    "        # replace abbreviations\n",
    "        text = replace_abbrev(text)\n",
    "\n",
    "        # we remove the most common english \n",
    "        tokens = nltk.word_tokenize(text)\n",
    "        stop_words = set(stopwords.words('english'))\n",
    "        lemmatizer = WordNetLemmatizer()\n",
    "\n",
    "        cleaned_tokens = []\n",
    "        for token in tokens:\n",
    "            if (token not in stop_words) or (token in [h.lower() for h in hashtags]):\n",
    "                cleaned_tokens.append(lemmatizer.lemmatize(token))\n",
    "\n",
    "        return ' '.join(cleaned_tokens)\n",
    "    return \"\""
   ]
  },
  {
   "cell_type": "code",
   "execution_count": 7,
   "id": "1a5b097e-f090-493e-a3d9-6c62b52f23d5",
   "metadata": {},
   "outputs": [
    {
     "name": "stdout",
     "output_type": "stream",
     "text": [
      "raining flooding florida tampabay 've lost count sleeping bored tired point view book\n"
     ]
    }
   ],
   "source": [
    "print(preprocess_text(\"#raining #flooding #Florida #TampaBay . I've lost count zzz pov ...    ##book http://t.co/f6ntUc734Z\"))"
   ]
  },
  {
   "cell_type": "markdown",
   "id": "7f1dd487-fb97-4067-a6d3-e232bebfdc58",
   "metadata": {},
   "source": [
    "The function seems to clean up the text well. We can now use it on the dataset and start building our lstm"
   ]
  },
  {
   "cell_type": "code",
   "execution_count": 8,
   "id": "8f2f41fa-3f18-4365-be04-c81add752d1e",
   "metadata": {},
   "outputs": [
    {
     "name": "stdout",
     "output_type": "stream",
     "text": [
      "                                                text  \\\n",
      "0  Our Deeds are the Reason of this #earthquake M...   \n",
      "1             Forest fire near La Ronge Sask. Canada   \n",
      "2  All residents asked to 'shelter in place' are ...   \n",
      "3  13,000 people receive #wildfires evacuation or...   \n",
      "4  Just got sent this photo from Ruby #Alaska as ...   \n",
      "\n",
      "                                        cleaned_text  \n",
      "0         deed reason earthquake may allah forgive u  \n",
      "1              forest fire near la ronge sask canada  \n",
      "2  resident asked 'shelter place ' notified offic...  \n",
      "3  people receive wildfire evacuation order calif...  \n",
      "4  got sent photo ruby alaska smoke wildfire pour...  \n"
     ]
    }
   ],
   "source": [
    "# cleanning the dataset\n",
    "cleaned_texts = []\n",
    "for i in range(len(data)):\n",
    "    cleaned_texts.append(preprocess_text(data.loc[i, 'text']))\n",
    "\n",
    "data['cleaned_text'] = cleaned_texts\n",
    "\n",
    "# Aperçu\n",
    "print(data[['text', 'cleaned_text']].head())"
   ]
  },
  {
   "cell_type": "code",
   "execution_count": 9,
   "id": "4353c0d9-2734-4935-88dd-638a4a7a1818",
   "metadata": {},
   "outputs": [
    {
     "data": {
      "text/plain": [
       "<bound method NDFrame.head of          id keyword location  \\\n",
       "0         1     NaN      NaN   \n",
       "1         4     NaN      NaN   \n",
       "2         5     NaN      NaN   \n",
       "3         6     NaN      NaN   \n",
       "4         7     NaN      NaN   \n",
       "...     ...     ...      ...   \n",
       "7608  10869     NaN      NaN   \n",
       "7609  10870     NaN      NaN   \n",
       "7610  10871     NaN      NaN   \n",
       "7611  10872     NaN      NaN   \n",
       "7612  10873     NaN      NaN   \n",
       "\n",
       "                                                   text  target  \\\n",
       "0     Our Deeds are the Reason of this #earthquake M...       1   \n",
       "1                Forest fire near La Ronge Sask. Canada       1   \n",
       "2     All residents asked to 'shelter in place' are ...       1   \n",
       "3     13,000 people receive #wildfires evacuation or...       1   \n",
       "4     Just got sent this photo from Ruby #Alaska as ...       1   \n",
       "...                                                 ...     ...   \n",
       "7608  Two giant cranes holding a bridge collapse int...       1   \n",
       "7609  @aria_ahrary @TheTawniest The out of control w...       1   \n",
       "7610  M1.94 [01:04 UTC]?5km S of Volcano Hawaii. htt...       1   \n",
       "7611  Police investigating after an e-bike collided ...       1   \n",
       "7612  The Latest: More Homes Razed by Northern Calif...       1   \n",
       "\n",
       "                                           cleaned_text  \n",
       "0            deed reason earthquake may allah forgive u  \n",
       "1                 forest fire near la ronge sask canada  \n",
       "2     resident asked 'shelter place ' notified offic...  \n",
       "3     people receive wildfire evacuation order calif...  \n",
       "4     got sent photo ruby alaska smoke wildfire pour...  \n",
       "...                                                 ...  \n",
       "7608  two giant crane holding bridge collapse nearby...  \n",
       "7609  control wild fire california even northern par...  \n",
       "7610       coordinated universal time km volcano hawaii  \n",
       "7611  police investigating e bike collided car littl...  \n",
       "7612  latest home razed northern california wildfire...  \n",
       "\n",
       "[7613 rows x 6 columns]>"
      ]
     },
     "execution_count": 9,
     "metadata": {},
     "output_type": "execute_result"
    }
   ],
   "source": [
    "data.head"
   ]
  },
  {
   "cell_type": "markdown",
   "id": "edd7d2db-3f82-4700-b5f1-b1676bdab201",
   "metadata": {},
   "source": [
    "The text can now be considered clean and usable."
   ]
  },
  {
   "cell_type": "markdown",
   "id": "02cb5d40-9df9-4e0c-ad9d-3ec3e8701315",
   "metadata": {},
   "source": [
    "# Split data"
   ]
  },
  {
   "cell_type": "code",
   "execution_count": 10,
   "id": "52368199-c47f-4952-a0f7-148b93cdf23e",
   "metadata": {},
   "outputs": [
    {
     "name": "stdout",
     "output_type": "stream",
     "text": [
      " dataset size : 7613\n",
      "Train_data : 6090 lignes\n",
      "Test_data : 1523 lignes\n",
      "\n",
      " labels repartition after spliting :\n",
      "\n",
      " X_train :\n",
      "Label 0: 57.03%\n",
      "Label 1: 42.97%\n",
      "\n",
      " X_test :\n",
      "Label 0: 57.06%\n",
      "Label 1: 42.94%\n"
     ]
    }
   ],
   "source": [
    "from sklearn.model_selection import train_test_split\n",
    "from tensorflow.keras.preprocessing.text import Tokenizer\n",
    "from tensorflow.keras.preprocessing.sequence import pad_sequences\n",
    "\n",
    "# data split \n",
    "train_data, test_data = train_test_split(data, test_size=0.2, random_state=42, stratify=data[\"target\"])\n",
    "\n",
    "# Tokenisation\n",
    "max_features = 10000\n",
    "tokenizer = Tokenizer(num_words=max_features, split=' ')\n",
    "tokenizer.fit_on_texts(train_data['cleaned_text'])\n",
    "\n",
    "# Conversion and padding\n",
    "X_train = tokenizer.texts_to_sequences(train_data['cleaned_text'])\n",
    "X_train = pad_sequences(X_train)\n",
    "y_train = train_data['target']\n",
    "\n",
    "X_test = tokenizer.texts_to_sequences(test_data['cleaned_text'])\n",
    "X_test = pad_sequences(X_test)\n",
    "y_test = test_data['target']\n",
    "\n",
    "# we check reppartition to \n",
    "print(f\" dataset size : {len(data)}\")\n",
    "print(f\"Train_data : {len(train_data)} lignes\")\n",
    "print(f\"Test_data : {len(test_data)} lignes\")\n",
    "\n",
    "\n",
    "print(\"\\n labels repartition after spliting :\")\n",
    "unique, counts = np.unique(y_train, return_counts=True)\n",
    "print(\"\\n X_train :\")\n",
    "for label, count in zip(unique, counts):\n",
    "    pourcentage = 100 * count / len(y_train)\n",
    "    print(f\"Label {label}: {pourcentage:.2f}%\")\n",
    "\n",
    "unique, counts = np.unique(y_test, return_counts=True)\n",
    "print(\"\\n X_test :\")\n",
    "for label, count in zip(unique, counts):\n",
    "    pourcentage = 100 * count / len(y_test)\n",
    "    print(f\"Label {label}: {pourcentage:.2f}%\")"
   ]
  },
  {
   "cell_type": "markdown",
   "id": "10c024b3-45db-4aef-abd4-ebef836de8be",
   "metadata": {},
   "source": [
    "no distribution problems in the splits"
   ]
  },
  {
   "cell_type": "markdown",
   "id": "35d56585-1d07-4fd4-a78c-137bcf22b4f5",
   "metadata": {},
   "source": [
    "# Building LSTM"
   ]
  },
  {
   "cell_type": "code",
   "execution_count": 49,
   "id": "25ae8372-743f-42cf-ba5b-f394d8a93aa0",
   "metadata": {},
   "outputs": [],
   "source": [
    "from tensorflow.keras.models import Sequential\n",
    "from tensorflow.keras.layers import Embedding, LSTM, Dropout, Dense\n",
    "from tensorflow.keras import optimizers\n",
    "from tensorflow.keras.optimizers import Adam\n",
    "embed_dim = 8\n",
    "lstm_out = 8\n",
    "lstm_model = Sequential()\n",
    "lstm_model.add(Embedding(max_features, embed_dim))\n",
    "lstm_model.add(Dropout(0.35))\n",
    "lstm_model.add(LSTM(lstm_out, dropout=0.3, recurrent_dropout=0.3))\n",
    "lstm_model.add(Dense(1, activation='sigmoid'))\n",
    "\n",
    "adam = optimizers.Adam(learning_rate=0.0005)\n",
    "lstm_model.compile(loss='binary_crossentropy', optimizer=adam, metrics=['accuracy'])\n"
   ]
  },
  {
   "cell_type": "code",
   "execution_count": 12,
   "id": "a754811f-c82b-42dd-986b-2837b3a0e351",
   "metadata": {},
   "outputs": [
    {
     "name": "stdout",
     "output_type": "stream",
     "text": [
      "Epoch 1/5\n",
      "305/305 - 10s - 33ms/step - accuracy: 0.5659 - loss: 0.6800 - val_accuracy: 0.5739 - val_loss: 0.6604\n",
      "Epoch 2/5\n",
      "305/305 - 5s - 16ms/step - accuracy: 0.6248 - loss: 0.6419 - val_accuracy: 0.7069 - val_loss: 0.6010\n",
      "Epoch 3/5\n",
      "305/305 - 5s - 15ms/step - accuracy: 0.7701 - loss: 0.5518 - val_accuracy: 0.7816 - val_loss: 0.5026\n",
      "Epoch 4/5\n",
      "305/305 - 5s - 16ms/step - accuracy: 0.8389 - loss: 0.4313 - val_accuracy: 0.7964 - val_loss: 0.4586\n",
      "Epoch 5/5\n",
      "305/305 - 5s - 16ms/step - accuracy: 0.8678 - loss: 0.3527 - val_accuracy: 0.8013 - val_loss: 0.4589\n",
      "48/48 - 1s - 18ms/step - accuracy: 0.8168 - loss: 0.4290\n",
      "Test accuracy: 0.8168\n"
     ]
    }
   ],
   "source": [
    "# training and evalution\n",
    "history = lstm_model.fit(X_train, y_train, epochs=5, batch_size=16, validation_split=0.2, verbose=2)\n",
    "\n",
    "test_loss, test_acc = lstm_model.evaluate(X_test, y_test, verbose=2)\n",
    "print(f\"Test accuracy: {test_acc:.4f}\")"
   ]
  },
  {
   "cell_type": "code",
   "execution_count": 13,
   "id": "d2906e94-d693-49ab-b064-23bcf127d51e",
   "metadata": {},
   "outputs": [
    {
     "data": {
      "image/png": "[encoded data removed]",
      "text/plain": [
       "<Figure size 1000x600 with 1 Axes>"
      ]
     },
     "metadata": {},
     "output_type": "display_data"
    }
   ],
   "source": [
    "import matplotlib.pyplot as plt\n",
    "plt.figure(figsize=(10, 6))\n",
    "plt.plot(history.history['accuracy'], label='Training Accuracy', marker='o')\n",
    "plt.plot(history.history['val_accuracy'], label='Validation Accuracy', marker='o')\n",
    "plt.title('LSTM Accuracy Progression')\n",
    "plt.xlabel('Epoch')\n",
    "plt.ylabel('Accuracy')\n",
    "plt.legend()\n",
    "plt.grid(True)\n",
    "plt.show()"
   ]
  },
  {
   "cell_type": "markdown",
   "id": "05a34aca-69ee-4112-824b-7b8d77be60b1",
   "metadata": {},
   "source": [
    "# GRU"
   ]
  },
  {
   "cell_type": "code",
   "execution_count": 48,
   "id": "c0f85f01-e0b6-4608-9121-a850b915bff3",
   "metadata": {},
   "outputs": [],
   "source": [
    "from tensorflow.keras.layers import GRU\n",
    "\n",
    "gru_model = Sequential()\n",
    "gru_model.add(Embedding(input_dim=max_features, output_dim=32))\n",
    "gru_model.add(Dropout(0.2))  # Même Dropout que le modèle LSTM mis à jour\n",
    "gru_model.add(GRU(32, dropout=0.2, recurrent_dropout=0.4))\n",
    "gru_model.add(Dense(1, activation='sigmoid'))\n",
    "gru_model.compile(loss='binary_crossentropy', optimizer=Adam(learning_rate=0.02), metrics=['accuracy'])\n"
   ]
  },
  {
   "cell_type": "code",
   "execution_count": 15,
   "id": "4f1a4fbb-a03c-4cf5-8d60-47c0cd114381",
   "metadata": {},
   "outputs": [
    {
     "name": "stdout",
     "output_type": "stream",
     "text": [
      "Epoch 1/5\n",
      "153/153 - 6s - 41ms/step - accuracy: 0.7307 - loss: 0.5351 - val_accuracy: 0.7989 - val_loss: 0.4742\n",
      "Epoch 2/5\n",
      "153/153 - 2s - 13ms/step - accuracy: 0.8898 - loss: 0.2807 - val_accuracy: 0.7874 - val_loss: 0.5250\n",
      "Epoch 3/5\n",
      "153/153 - 2s - 13ms/step - accuracy: 0.9399 - loss: 0.1690 - val_accuracy: 0.7750 - val_loss: 0.6948\n",
      "Epoch 4/5\n",
      "153/153 - 2s - 14ms/step - accuracy: 0.9542 - loss: 0.1215 - val_accuracy: 0.7709 - val_loss: 0.8717\n",
      "Epoch 5/5\n",
      "153/153 - 2s - 12ms/step - accuracy: 0.9637 - loss: 0.0958 - val_accuracy: 0.7438 - val_loss: 0.8611\n",
      "48/48 - 1s - 15ms/step - accuracy: 0.7656 - loss: 0.7844\n",
      "Test accuracy: 0.7656\n"
     ]
    }
   ],
   "source": [
    "# training and evalution\n",
    "history = gru_model.fit(X_train, y_train, epochs=5, batch_size=32, validation_split=0.2, verbose=2)\n",
    "\n",
    "test_loss, test_acc = gru_model.evaluate(X_test, y_test, verbose=2)\n",
    "print(f\"Test accuracy: {test_acc:.4f}\")"
   ]
  },
  {
   "cell_type": "code",
   "execution_count": 17,
   "id": "7775c977-3701-42fa-8bfb-25d68f4f9757",
   "metadata": {},
   "outputs": [
    {
     "name": "stdout",
     "output_type": "stream",
     "text": [
      "Epoch 1/5\n",
      "39/39 - 11s - 271ms/step - accuracy: 0.6168 - loss: 0.6907 - val_accuracy: 0.6117 - val_loss: 0.7173\n",
      "Epoch 2/5\n",
      "39/39 - 1s - 31ms/step - accuracy: 0.8001 - loss: 0.5242 - val_accuracy: 0.7159 - val_loss: 0.6784\n",
      "Epoch 3/5\n",
      "39/39 - 1s - 27ms/step - accuracy: 0.8764 - loss: 0.4261 - val_accuracy: 0.7759 - val_loss: 0.6381\n",
      "Epoch 4/5\n",
      "39/39 - 1s - 32ms/step - accuracy: 0.9044 - loss: 0.3876 - val_accuracy: 0.7775 - val_loss: 0.6297\n",
      "Epoch 5/5\n",
      "39/39 - 1s - 31ms/step - accuracy: 0.9193 - loss: 0.3798 - val_accuracy: 0.7865 - val_loss: 0.6293\n",
      "48/48 - 1s - 30ms/step - accuracy: 0.7853 - loss: 0.6190\n",
      "Test accuracy: 0.7853\n"
     ]
    }
   ],
   "source": [
    "from tensorflow.keras.layers import GRU, Bidirectional, BatchNormalization\n",
    "from tensorflow.keras.regularizers import l2\n",
    "\n",
    "gru_v2 = Sequential()\n",
    "gru_v2.add(Embedding(input_dim=max_features, output_dim=32, embeddings_regularizer=l2(1e-4)))\n",
    "gru_v2.add(Dropout(0.4))\n",
    "gru_v2.add(Bidirectional(GRU(20, dropout=0.4, recurrent_dropout=0.5, kernel_regularizer=l2(1e-4))))\n",
    "gru_v2.add(BatchNormalization())\n",
    "gru_v2.add(Dense(16, activation='relu', kernel_regularizer=l2(1e-4)))\n",
    "gru_v2.add(Dropout(0.5))\n",
    "gru_v2.add(Dense(1, activation='sigmoid'))\n",
    "\n",
    "gru_v2.compile(loss='binary_crossentropy', optimizer=Adam(learning_rate=0.01), metrics=['accuracy'])\n",
    "\n",
    "history = gru_v2.fit(X_train, y_train,epochs=5,batch_size=128,validation_split=0.2,verbose=2)\n",
    "\n",
    "test_loss, test_acc = gru_v2.evaluate(X_test, y_test, verbose=2)\n",
    "print(f\"Test accuracy: {test_acc:.4f}\")"
   ]
  },
  {
   "cell_type": "code",
   "execution_count": 127,
   "id": "5e1bdbd3-123e-4ff6-b458-1c75fa5982e7",
   "metadata": {},
   "outputs": [
    {
     "data": {
      "image/png": "[encoded data removed]",
      "text/plain": [
       "<Figure size 1000x600 with 1 Axes>"
      ]
     },
     "metadata": {},
     "output_type": "display_data"
    }
   ],
   "source": [
    "plt.figure(figsize=(10, 6))\n",
    "plt.plot(history.history['accuracy'], label='Training Accuracy', marker='o')\n",
    "plt.plot(history.history['val_accuracy'], label='Validation Accuracy', marker='o')\n",
    "plt.title('GRU V2 Accuracy Progression')\n",
    "plt.xlabel('Epoch')\n",
    "plt.ylabel('Accuracy')\n",
    "plt.legend()\n",
    "plt.grid(True)\n",
    "plt.show()"
   ]
  },
  {
   "cell_type": "markdown",
   "id": "a9669ef2-a615-4937-b693-1e51370d5207",
   "metadata": {},
   "source": [
    "# Model comparison add MCC evaluation"
   ]
  },
  {
   "cell_type": "markdown",
   "id": "654b9d55-3c86-4b90-9c33-cdd258358999",
   "metadata": {},
   "source": [
    "Here we create a function that aims to evaluate the two models."
   ]
  },
  {
   "cell_type": "code",
   "execution_count": 25,
   "id": "ff565f7e-2b3d-4959-b08f-08d2b2bc5a84",
   "metadata": {},
   "outputs": [],
   "source": [
    "import time\n",
    "import numpy as np\n",
    "from sklearn.metrics import roc_curve, auc\n",
    "\n",
    "def train_and_evaluate_model(model):\n",
    "    start_time = time.time()\n",
    "    history = model.fit(\n",
    "        X_train,\n",
    "        y_train,\n",
    "        epochs=5,\n",
    "        batch_size=32,\n",
    "        validation_split=0.2,\n",
    "        verbose=1\n",
    "    )\n",
    "    train_time = time.time() - start_time\n",
    "\n",
    "    start_time = time.time()\n",
    "    test_loss, test_acc = model.evaluate(X_test, y_test, verbose=1)\n",
    "    inference_time = time.time() - start_time\n",
    "\n",
    "    y_pred_prob = model.predict(X_test).ravel()\n",
    "    fpr, tpr, _ = roc_curve(y_test, y_pred_prob)\n",
    "    roc_auc = auc(fpr, tpr)\n",
    "\n",
    "    # Mesure de la stabilité de la loss sur la validation\n",
    "    val_loss_history = history.history['val_loss']\n",
    "    loss_std = np.std(val_loss_history)  # écart-type de la loss\n",
    "\n",
    "    return {\n",
    "        'accuracy': test_acc,\n",
    "        'loss': test_loss,\n",
    "        'loss_std': loss_std,  # stabilité (plus c'est bas, plus c'est stable)\n",
    "        'roc_auc': roc_auc,\n",
    "        'fpr': fpr,\n",
    "        'tpr': tpr,\n",
    "        'train_time': train_time,\n",
    "        'inference_time': inference_time,\n",
    "        'history': history,\n",
    "        'params': model.count_params()\n",
    "    }\n"
   ]
  },
  {
   "cell_type": "markdown",
   "id": "9304a9f3-689a-4b56-ad6f-31df5f4c72e6",
   "metadata": {},
   "source": [
    "Evaluation of lstm"
   ]
  },
  {
   "cell_type": "code",
   "execution_count": 26,
   "id": "996ccec5-cb38-45b3-b14a-088d6c71193e",
   "metadata": {},
   "outputs": [
    {
     "name": "stdout",
     "output_type": "stream",
     "text": [
      "Epoch 1/5\n",
      "\u001b[1m153/153\u001b[0m \u001b[32m━━━━━━━━━━━━━━━━━━━━\u001b[0m\u001b[37m\u001b[0m \u001b[1m6s\u001b[0m 38ms/step - accuracy: 0.9360 - loss: 0.1941 - val_accuracy: 0.8030 - val_loss: 0.5279\n",
      "Epoch 2/5\n",
      "\u001b[1m153/153\u001b[0m \u001b[32m━━━━━━━━━━━━━━━━━━━━\u001b[0m\u001b[37m\u001b[0m \u001b[1m6s\u001b[0m 36ms/step - accuracy: 0.9344 - loss: 0.1795 - val_accuracy: 0.7989 - val_loss: 0.5488\n",
      "Epoch 3/5\n",
      "\u001b[1m153/153\u001b[0m \u001b[32m━━━━━━━━━━━━━━━━━━━━\u001b[0m\u001b[37m\u001b[0m \u001b[1m6s\u001b[0m 38ms/step - accuracy: 0.9406 - loss: 0.1790 - val_accuracy: 0.7898 - val_loss: 0.5775\n",
      "Epoch 4/5\n",
      "\u001b[1m153/153\u001b[0m \u001b[32m━━━━━━━━━━━━━━━━━━━━\u001b[0m\u001b[37m\u001b[0m \u001b[1m10s\u001b[0m 38ms/step - accuracy: 0.9476 - loss: 0.1545 - val_accuracy: 0.7972 - val_loss: 0.5852\n",
      "Epoch 5/5\n",
      "\u001b[1m153/153\u001b[0m \u001b[32m━━━━━━━━━━━━━━━━━━━━\u001b[0m\u001b[37m\u001b[0m \u001b[1m10s\u001b[0m 35ms/step - accuracy: 0.9439 - loss: 0.1660 - val_accuracy: 0.7964 - val_loss: 0.5879\n",
      "\u001b[1m48/48\u001b[0m \u001b[32m━━━━━━━━━━━━━━━━━━━━\u001b[0m\u001b[37m\u001b[0m \u001b[1m0s\u001b[0m 9ms/step - accuracy: 0.7886 - loss: 0.5970 \n",
      "\u001b[1m48/48\u001b[0m \u001b[32m━━━━━━━━━━━━━━━━━━━━\u001b[0m\u001b[37m\u001b[0m \u001b[1m0s\u001b[0m 7ms/step \n"
     ]
    }
   ],
   "source": [
    "lstm_results = train_and_evaluate_model(lstm_model)"
   ]
  },
  {
   "cell_type": "code",
   "execution_count": 27,
   "id": "8d4ee02d-064d-4a40-803d-22cf570f3326",
   "metadata": {},
   "outputs": [
    {
     "name": "stdout",
     "output_type": "stream",
     "text": [
      "LSTM Results:\n",
      "Accuracy: 0.8050\n",
      "Loss: 0.5279\n",
      "Loss Std (stability): 0.0233\n",
      "Training Time: 37.5000 seconds\n",
      "Inference Time: 0.5801 seconds\n",
      "Number of Parameters: 80553\n"
     ]
    }
   ],
   "source": [
    "# results\n",
    "print(\"LSTM Results:\")\n",
    "print(f\"Accuracy: {lstm_results['accuracy']:.4f}\")\n",
    "print(f\"Loss: {lstm_results['loss']:.4f}\")\n",
    "print(f\"Loss Std (stability): {lstm_results['loss_std']:.4f}\")\n",
    "print(f\"Training Time: {lstm_results['train_time']:.4f} seconds\")\n",
    "print(f\"Inference Time: {lstm_results['inference_time']:.4f} seconds\")\n",
    "print(f\"Number of Parameters: {lstm_results['params']}\")"
   ]
  },
  {
   "cell_type": "markdown",
   "id": "f07a9735-9837-4a7f-b3d7-7f44e4bcf5b7",
   "metadata": {},
   "source": [
    "Evaluation of GRU"
   ]
  },
  {
   "cell_type": "code",
   "execution_count": 28,
   "id": "ada82196-3087-4614-86b3-c48e10b85e41",
   "metadata": {},
   "outputs": [
    {
     "name": "stdout",
     "output_type": "stream",
     "text": [
      "Epoch 1/5\n",
      "\u001b[1m153/153\u001b[0m \u001b[32m━━━━━━━━━━━━━━━━━━━━\u001b[0m\u001b[37m\u001b[0m \u001b[1m9s\u001b[0m 62ms/step - accuracy: 0.9066 - loss: 0.5408 - val_accuracy: 0.7553 - val_loss: 0.9956\n",
      "Epoch 2/5\n",
      "\u001b[1m153/153\u001b[0m \u001b[32m━━━━━━━━━━━━━━━━━━━━\u001b[0m\u001b[37m\u001b[0m \u001b[1m9s\u001b[0m 59ms/step - accuracy: 0.9313 - loss: 0.5328 - val_accuracy: 0.7677 - val_loss: 1.0733\n",
      "Epoch 3/5\n",
      "\u001b[1m153/153\u001b[0m \u001b[32m━━━━━━━━━━━━━━━━━━━━\u001b[0m\u001b[37m\u001b[0m \u001b[1m10s\u001b[0m 58ms/step - accuracy: 0.9142 - loss: 0.5572 - val_accuracy: 0.7570 - val_loss: 1.1832\n",
      "Epoch 4/5\n",
      "\u001b[1m153/153\u001b[0m \u001b[32m━━━━━━━━━━━━━━━━━━━━\u001b[0m\u001b[37m\u001b[0m \u001b[1m9s\u001b[0m 60ms/step - accuracy: 0.9226 - loss: 0.5603 - val_accuracy: 0.7759 - val_loss: 1.1886\n",
      "Epoch 5/5\n",
      "\u001b[1m153/153\u001b[0m \u001b[32m━━━━━━━━━━━━━━━━━━━━\u001b[0m\u001b[37m\u001b[0m \u001b[1m9s\u001b[0m 59ms/step - accuracy: 0.9106 - loss: 0.5970 - val_accuracy: 0.7685 - val_loss: 1.1883\n",
      "\u001b[1m48/48\u001b[0m \u001b[32m━━━━━━━━━━━━━━━━━━━━\u001b[0m\u001b[37m\u001b[0m \u001b[1m1s\u001b[0m 14ms/step - accuracy: 0.7483 - loss: 1.2255\n",
      "\u001b[1m48/48\u001b[0m \u001b[32m━━━━━━━━━━━━━━━━━━━━\u001b[0m\u001b[37m\u001b[0m \u001b[1m1s\u001b[0m 10ms/step\n"
     ]
    }
   ],
   "source": [
    "gru_results = train_and_evaluate_model(gru_v2)"
   ]
  },
  {
   "cell_type": "code",
   "execution_count": 29,
   "id": "d8f6f4a4-941c-4e8e-8583-9f763bba480f",
   "metadata": {},
   "outputs": [
    {
     "name": "stdout",
     "output_type": "stream",
     "text": [
      "\n",
      "GRU Results:\n",
      "Accuracy: 0.7715\n",
      "Loss: 1.1513\n",
      "Loss Std (stability): 0.0786\n",
      "Training Time: 48.4581 seconds\n",
      "Inference Time: 1.4748 seconds\n",
      "Number of Parameters: 327313\n"
     ]
    }
   ],
   "source": [
    "#results\n",
    "print(\"\\nGRU Results:\")\n",
    "print(f\"Accuracy: {gru_results['accuracy']:.4f}\")\n",
    "print(f\"Loss: {gru_results['loss']:.4f}\")\n",
    "print(f\"Loss Std (stability): {gru_results['loss_std']:.4f}\")\n",
    "print(f\"Training Time: {gru_results['train_time']:.4f} seconds\")\n",
    "print(f\"Inference Time: {gru_results['inference_time']:.4f} seconds\")\n",
    "print(f\"Number of Parameters: {gru_results['params']}\")"
   ]
  },
  {
   "cell_type": "code",
   "execution_count": 30,
   "id": "726199f8-e0d4-4d5c-9ccc-1b53f4ca6eb7",
   "metadata": {},
   "outputs": [
    {
     "data": {
      "image/png": "[encoded data removed]",
      "text/plain": [
       "<Figure size 1200x600 with 1 Axes>"
      ]
     },
     "metadata": {},
     "output_type": "display_data"
    }
   ],
   "source": [
    "import matplotlib.pyplot as plt\n",
    "\n",
    "plt.figure(figsize=(12, 6))\n",
    "plt.plot(lstm_results['fpr'], lstm_results['tpr'], label=f'LSTM (AUC = {lstm_results[\"roc_auc\"]:.2f})')\n",
    "plt.plot(gru_results['fpr'], gru_results['tpr'], label=f'GRU (AUC = {gru_results[\"roc_auc\"]:.2f})')\n",
    "plt.plot([0, 1], [0, 1], 'k--')\n",
    "plt.xlabel('False Positive Rate')\n",
    "plt.ylabel('True Positive Rate')\n",
    "plt.title('ROC Curve')\n",
    "plt.legend(loc='best')\n",
    "plt.show()"
   ]
  },
  {
   "cell_type": "markdown",
   "id": "824027e6-17ee-43e7-ac53-c5309e5add90",
   "metadata": {},
   "source": [
    "# Test"
   ]
  },
  {
   "cell_type": "markdown",
   "id": "d2a396a6-3e0a-4cf4-9dac-c3f181eb85b8",
   "metadata": {},
   "source": [
    "We're going to make the code start again from the beginning."
   ]
  },
  {
   "cell_type": "code",
   "execution_count": 57,
   "id": "a3260ca3-4382-4874-b305-76259e651a48",
   "metadata": {},
   "outputs": [],
   "source": [
    "# We reload the data to make it as if we were starting from 0.\n",
    "train_data = pd.read_csv(\"train.csv\")\n",
    "test_data = pd.read_csv(\"test.csv\")"
   ]
  },
  {
   "cell_type": "code",
   "execution_count": 32,
   "id": "75e7fbce-75e7-4532-9e24-21eb7a28049a",
   "metadata": {},
   "outputs": [
    {
     "data": {
      "text/html": [
       "<div>\n",
       "<style scoped>\n",
       "    .dataframe tbody tr th:only-of-type {\n",
       "        vertical-align: middle;\n",
       "    }\n",
       "\n",
       "    .dataframe tbody tr th {\n",
       "        vertical-align: top;\n",
       "    }\n",
       "\n",
       "    .dataframe thead th {\n",
       "        text-align: right;\n",
       "    }\n",
       "</style>\n",
       "<table border=\"1\" class=\"dataframe\">\n",
       "  <thead>\n",
       "    <tr style=\"text-align: right;\">\n",
       "      <th></th>\n",
       "      <th>id</th>\n",
       "      <th>keyword</th>\n",
       "      <th>location</th>\n",
       "      <th>text</th>\n",
       "    </tr>\n",
       "  </thead>\n",
       "  <tbody>\n",
       "    <tr>\n",
       "      <th>0</th>\n",
       "      <td>0</td>\n",
       "      <td>NaN</td>\n",
       "      <td>NaN</td>\n",
       "      <td>Just happened a terrible car crash</td>\n",
       "    </tr>\n",
       "    <tr>\n",
       "      <th>1</th>\n",
       "      <td>2</td>\n",
       "      <td>NaN</td>\n",
       "      <td>NaN</td>\n",
       "      <td>Heard about #earthquake is different cities, s...</td>\n",
       "    </tr>\n",
       "    <tr>\n",
       "      <th>2</th>\n",
       "      <td>3</td>\n",
       "      <td>NaN</td>\n",
       "      <td>NaN</td>\n",
       "      <td>there is a forest fire at spot pond, geese are...</td>\n",
       "    </tr>\n",
       "    <tr>\n",
       "      <th>3</th>\n",
       "      <td>9</td>\n",
       "      <td>NaN</td>\n",
       "      <td>NaN</td>\n",
       "      <td>Apocalypse lighting. #Spokane #wildfires</td>\n",
       "    </tr>\n",
       "    <tr>\n",
       "      <th>4</th>\n",
       "      <td>11</td>\n",
       "      <td>NaN</td>\n",
       "      <td>NaN</td>\n",
       "      <td>Typhoon Soudelor kills 28 in China and Taiwan</td>\n",
       "    </tr>\n",
       "  </tbody>\n",
       "</table>\n",
       "</div>"
      ],
      "text/plain": [
       "   id keyword location                                               text\n",
       "0   0     NaN      NaN                 Just happened a terrible car crash\n",
       "1   2     NaN      NaN  Heard about #earthquake is different cities, s...\n",
       "2   3     NaN      NaN  there is a forest fire at spot pond, geese are...\n",
       "3   9     NaN      NaN           Apocalypse lighting. #Spokane #wildfires\n",
       "4  11     NaN      NaN      Typhoon Soudelor kills 28 in China and Taiwan"
      ]
     },
     "execution_count": 32,
     "metadata": {},
     "output_type": "execute_result"
    }
   ],
   "source": [
    "test_data.head()"
   ]
  },
  {
   "cell_type": "code",
   "execution_count": 35,
   "id": "0b5b172b-ed9e-4865-b410-c35189ffc425",
   "metadata": {},
   "outputs": [
    {
     "name": "stdout",
     "output_type": "stream",
     "text": [
      "                                                text  \\\n",
      "0  Our Deeds are the Reason of this #earthquake M...   \n",
      "1             Forest fire near La Ronge Sask. Canada   \n",
      "2  All residents asked to 'shelter in place' are ...   \n",
      "3  13,000 people receive #wildfires evacuation or...   \n",
      "4  Just got sent this photo from Ruby #Alaska as ...   \n",
      "\n",
      "                                        cleaned_text  \n",
      "0         deed reason earthquake may allah forgive u  \n",
      "1              forest fire near la ronge sask canada  \n",
      "2  resident asked 'shelter place ' notified offic...  \n",
      "3  people receive wildfire evacuation order calif...  \n",
      "4  got sent photo ruby alaska smoke wildfire pour...  \n",
      "                                                text  \\\n",
      "0                 Just happened a terrible car crash   \n",
      "1  Heard about #earthquake is different cities, s...   \n",
      "2  there is a forest fire at spot pond, geese are...   \n",
      "3           Apocalypse lighting. #Spokane #wildfires   \n",
      "4      Typhoon Soudelor kills 28 in China and Taiwan   \n",
      "\n",
      "                                        cleaned_text  \n",
      "0                        happened terrible car crash  \n",
      "1  heard earthquake different city stay safe ever...  \n",
      "2  forest fire spot pond goose fleeing across str...  \n",
      "3               apocalypse lighting spokane wildfire  \n",
      "4                 typhoon soudelor kill china taiwan  \n"
     ]
    }
   ],
   "source": [
    "cleaned_texts = []\n",
    "for i in range(len(train_data)):\n",
    "    cleaned_texts.append(preprocess_text(train_data.loc[i, 'text']))\n",
    "train_data['cleaned_text'] = cleaned_texts\n",
    "print(train_data[['text', 'cleaned_text']].head())\n",
    "\n",
    "cleaned_texts = []\n",
    "for i in range(len(test_data)):\n",
    "    cleaned_texts.append(preprocess_text(test_data.loc[i, 'text']))\n",
    "test_data['cleaned_text'] = cleaned_texts\n",
    "print(test_data[['text', 'cleaned_text']].head())\n"
   ]
  },
  {
   "cell_type": "markdown",
   "id": "463452df-a8c1-46c6-b87e-6bcf4da8d4b0",
   "metadata": {},
   "source": [
    "The cleaning is successful, we will now tokenize"
   ]
  },
  {
   "cell_type": "code",
   "execution_count": 56,
   "id": "499a7511-ddb6-4618-a61c-158998cbf7c7",
   "metadata": {},
   "outputs": [],
   "source": [
    "tokenizer = Tokenizer(num_words=10000)\n",
    "tokenizer.fit_on_texts(train_data[\"cleaned_text\"])\n",
    "\n",
    "X_train_full = tokenizer.texts_to_sequences(train_data[\"cleaned_text\"])\n",
    "X_train_full = pad_sequences(X_train_full)\n",
    "\n",
    "X_test_final = tokenizer.texts_to_sequences(test_data[\"cleaned_text\"])\n",
    "X_test_final = pad_sequences(X_test_final, maxlen=X_train_full.shape[1]) \n",
    "y_train_full = train_data[\"target\"]"
   ]
  },
  {
   "cell_type": "markdown",
   "id": "1c58bbee-0c3c-4179-9aee-8021a51a74cc",
   "metadata": {},
   "source": [
    "Retraining models on the entire train dataset"
   ]
  },
  {
   "cell_type": "code",
   "execution_count": 50,
   "id": "01aebfc1-20e1-460a-a2c7-6cec34042e90",
   "metadata": {},
   "outputs": [
    {
     "name": "stdout",
     "output_type": "stream",
     "text": [
      "Epoch 1/5\n",
      "238/238 - 18s - 74ms/step - accuracy: 0.5918 - loss: 0.6678\n",
      "Epoch 2/5\n",
      "238/238 - 8s - 36ms/step - accuracy: 0.7764 - loss: 0.5299\n",
      "Epoch 3/5\n",
      "238/238 - 9s - 36ms/step - accuracy: 0.8352 - loss: 0.3961\n",
      "Epoch 4/5\n",
      "238/238 - 9s - 36ms/step - accuracy: 0.8631 - loss: 0.3350\n",
      "Epoch 5/5\n",
      "238/238 - 8s - 36ms/step - accuracy: 0.8874 - loss: 0.2885\n"
     ]
    },
    {
     "data": {
      "text/plain": [
       "<keras.src.callbacks.history.History at 0x1a8ca20de40>"
      ]
     },
     "execution_count": 50,
     "metadata": {},
     "output_type": "execute_result"
    }
   ],
   "source": [
    "lstm_model.compile(loss='binary_crossentropy', optimizer='adam', metrics=['accuracy'])\n",
    "lstm_model.fit(X_train_full, y_train_full, epochs=5, batch_size=32, verbose=2)"
   ]
  },
  {
   "cell_type": "code",
   "execution_count": 44,
   "id": "bb5b9fe0-24ca-4850-8b7a-35b07fcfb869",
   "metadata": {},
   "outputs": [
    {
     "name": "stdout",
     "output_type": "stream",
     "text": [
      "Epoch 1/5\n",
      "60/60 - 21s - 350ms/step - accuracy: 0.5221 - loss: 0.7723\n",
      "Epoch 2/5\n",
      "60/60 - 3s - 49ms/step - accuracy: 0.6117 - loss: 0.6688\n",
      "Epoch 3/5\n",
      "60/60 - 3s - 47ms/step - accuracy: 0.7255 - loss: 0.5698\n",
      "Epoch 4/5\n",
      "60/60 - 3s - 47ms/step - accuracy: 0.8078 - loss: 0.4748\n",
      "Epoch 5/5\n",
      "60/60 - 3s - 50ms/step - accuracy: 0.8396 - loss: 0.4088\n"
     ]
    },
    {
     "data": {
      "text/plain": [
       "<keras.src.callbacks.history.History at 0x1a8bdd37c70>"
      ]
     },
     "execution_count": 44,
     "metadata": {},
     "output_type": "execute_result"
    }
   ],
   "source": [
    "gru_v2.compile(loss='binary_crossentropy', optimizer='adam', metrics=['accuracy'])\n",
    "gru_v2.fit(X_train_full, y_train_full, epochs=5, batch_size=128, verbose=2)"
   ]
  },
  {
   "cell_type": "markdown",
   "id": "d9e47609-fd69-4f8b-b249-17ceacff20b1",
   "metadata": {},
   "source": [
    "Predictions on the test"
   ]
  },
  {
   "cell_type": "code",
   "execution_count": 51,
   "id": "bad6c311-74ca-4086-b7ee-fac2918f1e2c",
   "metadata": {},
   "outputs": [
    {
     "name": "stdout",
     "output_type": "stream",
     "text": [
      "\u001b[1m102/102\u001b[0m \u001b[32m━━━━━━━━━━━━━━━━━━━━\u001b[0m\u001b[37m\u001b[0m \u001b[1m3s\u001b[0m 17ms/step   \n",
      "\u001b[1m102/102\u001b[0m \u001b[32m━━━━━━━━━━━━━━━━━━━━\u001b[0m\u001b[37m\u001b[0m \u001b[1m5s\u001b[0m 29ms/step\n"
     ]
    }
   ],
   "source": [
    "lstm_preds = lstm_model.predict(X_test_final)\n",
    "gru_preds = gru_v2.predict(X_test_final)\n",
    "\n",
    "lstm_preds = (lstm_preds > 0.5).astype(int).flatten()\n",
    "gru_preds = (gru_preds > 0.5).astype(int).flatten()"
   ]
  },
  {
   "cell_type": "markdown",
   "id": "6ffd6a89-27dd-4a19-b1dd-a40e39b9d512",
   "metadata": {},
   "source": [
    "CSV génération. "
   ]
  },
  {
   "cell_type": "code",
   "execution_count": 54,
   "id": "dd23ce84-bb80-4836-befd-097cb84a061c",
   "metadata": {},
   "outputs": [],
   "source": [
    "submission = pd.DataFrame({\n",
    "    'ID': test_data['id'],\n",
    "    'LSTM': lstm_preds,\n",
    "    'GRU': gru_preds\n",
    "})\n",
    "\n",
    "submission.to_csv(\"test_result.csv\", index=False)\n"
   ]
  },
  {
   "cell_type": "markdown",
   "id": "d3beca43-8fbe-4e56-bc2b-0c8b942896f7",
   "metadata": {},
   "source": [
    "The end"
   ]
  }
 ],
 "metadata": {
  "kernelspec": {
   "display_name": "Python 3 (ipykernel)",
   "language": "python",
   "name": "python3"
  },
  "language_info": {
   "codemirror_mode": {
    "name": "ipython",
    "version": 3
   },
   "file_extension": ".py",
   "mimetype": "text/x-python",
   "name": "python",
   "nbconvert_exporter": "python",
   "pygments_lexer": "ipython3",
   "version": "3.10.11"
  }
 },
 "nbformat": 4,
 "nbformat_minor": 5
}
